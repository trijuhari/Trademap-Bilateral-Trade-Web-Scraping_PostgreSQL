{
 "cells": [
  {
   "cell_type": "markdown",
   "id": "ada7c61d",
   "metadata": {
    "ExecuteTime": {
     "end_time": "2021-09-27T09:20:57.572684Z",
     "start_time": "2021-09-27T09:20:57.570255Z"
    },
    "heading_collapsed": true
   },
   "source": [
    "# Lib"
   ]
  },
  {
   "cell_type": "code",
   "execution_count": 1,
   "id": "fb8ed4e9",
   "metadata": {
    "ExecuteTime": {
     "end_time": "2021-09-27T04:43:35.311581Z",
     "start_time": "2021-09-27T04:43:33.983287Z"
    },
    "hidden": true
   },
   "outputs": [],
   "source": [
    "from selenium import webdriver\n",
    "from selenium.common.exceptions import NoSuchElementException\n",
    "from selenium.webdriver.common.keys import Keys\n",
    "from bs4 import BeautifulSoup\n",
    "from selenium.webdriver.support.ui import Select\n",
    "from selenium.webdriver.common.by import By\n",
    "from selenium.webdriver.support.ui import WebDriverWait\n",
    "from selenium.webdriver.support import expected_conditions as EC\n",
    "from selenium.common.exceptions import TimeoutException\n",
    "import time \n",
    "import pandas as pd \n",
    "from selenium.common.exceptions import StaleElementReferenceException\n",
    "import psycopg2\n"
   ]
  },
  {
   "cell_type": "markdown",
   "id": "cbab11c6",
   "metadata": {
    "heading_collapsed": true
   },
   "source": [
    "# Postgre"
   ]
  },
  {
   "cell_type": "code",
   "execution_count": 2,
   "id": "b56f63fe",
   "metadata": {
    "ExecuteTime": {
     "end_time": "2021-09-27T04:43:45.408451Z",
     "start_time": "2021-09-27T04:43:43.700951Z"
    },
    "hidden": true
   },
   "outputs": [],
   "source": [
    "from sqlalchemy import create_engine\n",
    "\n",
    "postgres_address = 'localhost'\n",
    "postgress_port = '5432'\n",
    "postgres_username = 'postgres'\n",
    "postgres_password = 'juhari123'\n",
    "postgres_database = 'data_trademap'\n",
    "postgres = ('postgresql://{username}:{password}@{address}:{port}/{dbname}'.format(username=postgres_username, \\\n",
    "                                                                                  password=postgres_password,\n",
    "                                                                                  address=postgres_address,\n",
    "                                                                                  port=postgress_port,\n",
    "                                                                                  dbname=postgres_database))\n",
    "\n",
    "# untuk mengkoneksikan ke database yang digunakan\n",
    "con = create_engine(postgres)"
   ]
  },
  {
   "cell_type": "markdown",
   "id": "e0491c89",
   "metadata": {
    "heading_collapsed": true
   },
   "source": [
    "# Get Country Code "
   ]
  },
  {
   "cell_type": "code",
   "execution_count": 3,
   "id": "1326826e",
   "metadata": {
    "ExecuteTime": {
     "end_time": "2021-09-27T04:44:00.302059Z",
     "start_time": "2021-09-27T04:43:59.665035Z"
    },
    "code_folding": [],
    "hidden": true
   },
   "outputs": [],
   "source": [
    "df = pd.read_sql_query('select * from code_negara', con )\n",
    "kode_negara = {}\n",
    "for i in range( len(df)) :\n",
    "    kode_negara[df.code[i]] = df.nama[i]\n",
    "  \n",
    "kombinasi_negara = df.code[df.code!='360'] "
   ]
  },
  {
   "cell_type": "markdown",
   "id": "436ef84f",
   "metadata": {},
   "source": [
    "# Pagination"
   ]
  },
  {
   "cell_type": "code",
   "execution_count": 295,
   "id": "e7fb9802",
   "metadata": {
    "ExecuteTime": {
     "end_time": "2021-09-27T12:09:42.582793Z",
     "start_time": "2021-09-27T12:09:42.572668Z"
    }
   },
   "outputs": [],
   "source": [
    "def html_source_browser(negara,partner):\n",
    "    browser = browser2\n",
    "    \n",
    "\n",
    "    select = Select(WebDriverWait(browser, 10).until(\n",
    "        EC.element_to_be_clickable((By.XPATH, \"//select[@id='ctl00_NavigationControl_DropDownList_Country']\"))))\n",
    "    select.select_by_value(negara)\n",
    "    time.sleep(3)\n",
    "    \n",
    "    select = Select(WebDriverWait(browser, 10).until(\n",
    "        EC.element_to_be_clickable((By.XPATH, \"//select[@id='ctl00_NavigationControl_DropDownList_Partner']\"))))\n",
    "    select.select_by_value(partner)\n",
    "    time.sleep(3)\n",
    "\n",
    " \n",
    "    html_source = []\n",
    "    html_source.append((browser.page_source))\n",
    "    \n",
    "    \n",
    "    while True:\n",
    "\n",
    "        try:\n",
    "            WebDriverWait(browser, 30).until(EC.element_to_be_clickable((By.XPATH,\n",
    "                                                                         \"//table[@id='ctl00_PageContent_MyGridView1']//table/tbody/tr//td/span//following::td[1]/a\"))) \n",
    "            browser.find_element_by_xpath(\"//table[@id='ctl00_PageContent_MyGridView1']//table/tbody/tr//td/span//following::td[1]/a\").click()\n",
    "            \n",
    "            time.sleep(3)\n",
    "            html_source.append((browser.page_source))\n",
    "        except TimeoutException:\n",
    "            break\n",
    "\n",
    " \n",
    "    return html_source"
   ]
  },
  {
   "cell_type": "markdown",
   "id": "ae939f52",
   "metadata": {},
   "source": [
    "# Extract Data With BS4"
   ]
  },
  {
   "cell_type": "code",
   "execution_count": null,
   "id": "1b2bb955",
   "metadata": {},
   "outputs": [],
   "source": [
    "def data_import_export_extract(html_source, angka ):\n",
    "\tsoup = BeautifulSoup(html_source,'html.parser')\n",
    "\n",
    "\tdata = soup.findAll('td',{'class':['tabContent']})\n",
    "\n",
    "\tweb = []\n",
    "\tfor item in data:\n",
    "\t\ttdTags = item.find_all(\"tr\")\n",
    "\tfor item in tdTags:\n",
    "\t\tfor asii in item.find_all(\"td\") :\n",
    "\t\t\t\t#print(no , asii.text)\n",
    "\t\t\t\t#product_code.append(asii.text.strip())\n",
    "\t\t\tweb.append(asii.text.strip())\n",
    "\tif angka != 1:\n",
    "\t\tweb = web[15:]\n",
    "\telse :\n",
    "\t\tweb = web[35:]\n",
    "\n",
    "\n",
    "\treturn web"
   ]
  },
  {
   "cell_type": "code",
   "execution_count": 281,
   "id": "23e0b348",
   "metadata": {
    "ExecuteTime": {
     "end_time": "2021-09-27T10:26:59.687386Z",
     "start_time": "2021-09-27T10:26:59.672513Z"
    }
   },
   "outputs": [],
   "source": [
    "def data_import_export_extract(html_source, page ):\n",
    "    soup = BeautifulSoup(html_source,'lxml')\n",
    "\n",
    " \n",
    "\n",
    "    web = []\n",
    "    table = soup.find('table', {'id':'ctl00_PageContent_MyGridView1'})\n",
    "    table_body = table.find_all('tbody')\n",
    "    rows = table_body.find_all('tr')\n",
    "    for row in rows:\n",
    "        cols = row.find_all('td')\n",
    "        cols = [ele.text.strip() for ele in cols]\n",
    "        web.append([ele for ele in cols if ele])\n",
    "    if page != 1 :\n",
    "        web = web[4:-2]\n",
    "    else:\n",
    "        web = web[5:-2]\n",
    "\n",
    "\n",
    "\n",
    "    return web\n"
   ]
  },
  {
   "cell_type": "markdown",
   "id": "eae0ba75",
   "metadata": {
    "heading_collapsed": true
   },
   "source": [
    "# Insert to Dataframe"
   ]
  },
  {
   "cell_type": "code",
   "execution_count": 249,
   "id": "b6cc29cd",
   "metadata": {
    "ExecuteTime": {
     "end_time": "2021-09-27T10:02:45.508855Z",
     "start_time": "2021-09-27T10:02:45.488228Z"
    },
    "code_folding": [],
    "hidden": true
   },
   "outputs": [],
   "source": [
    "def insert_into_list(data):\n",
    "    \n",
    "    product_code = []\n",
    "    product_label = []\n",
    "    value_2016 = []\n",
    "    value_2017 = []\n",
    "    value_2018 = []\n",
    "    value_2019 = []\n",
    "    value_2020 = []\n",
    "    i =0 \n",
    "    for web in data:\n",
    "        product_code.append(web[i])\n",
    "        product_label.append(web[i + 1])\n",
    "        value_2016.append(web[i + 2])\n",
    "        value_2017.append(web[i + 3])\n",
    "        value_2018.append(web[i + 4])\n",
    "        value_2019.append(web[i + 5])\n",
    "        value_2020.append(web[i + 6])\n",
    "\n",
    "    # make dataframe\n",
    "    kolom = ['product_code', 'product_label', '2016', '2017', '2018', '2019', '2020']\n",
    "    df = pd.DataFrame(columns=kolom)\n",
    "    df['product_code'] = product_code\n",
    "    df['product_label'] = product_label\n",
    "    df['2016'] = value_2016\n",
    "    df['2017'] = value_2017\n",
    "    df['2018'] = value_2018\n",
    "    df['2019'] = value_2019\n",
    "    df['2020'] = value_2020\n",
    "    \n",
    "    return df\n"
   ]
  },
  {
   "cell_type": "markdown",
   "id": "d8d55fad",
   "metadata": {
    "heading_collapsed": true
   },
   "source": [
    "# Get Key Negara"
   ]
  },
  {
   "cell_type": "code",
   "execution_count": 20,
   "id": "af6fddae",
   "metadata": {
    "ExecuteTime": {
     "end_time": "2021-09-27T04:56:48.164691Z",
     "start_time": "2021-09-27T04:56:48.154236Z"
    },
    "hidden": true
   },
   "outputs": [],
   "source": [
    "def get_key(val):\n",
    "    for key, value in kode_negara.items():\n",
    "         if val == value:\n",
    "             return key\n",
    " \n",
    "    return \"key doesn't exist\"\n",
    " \n",
    "# Driver Code\n",
    " \n",
    " \n"
   ]
  },
  {
   "cell_type": "markdown",
   "id": "924861c4",
   "metadata": {},
   "source": [
    "# Load Data BY one"
   ]
  },
  {
   "cell_type": "code",
   "execution_count": 297,
   "id": "1b76f682",
   "metadata": {
    "ExecuteTime": {
     "end_time": "2021-09-27T12:11:49.331005Z",
     "start_time": "2021-09-27T12:10:46.864648Z"
    },
    "scrolled": true
   },
   "outputs": [
    {
     "name": "stdout",
     "output_type": "stream",
     "text": [
      "c9ab0772-69ee-4802-950a-c6d4cc9787f4\n",
      "http://127.0.0.1:34297\n"
     ]
    }
   ],
   "source": [
    "\n",
    "browser = webdriver.Firefox()\n",
    "executor_url = browser.command_executor._url\n",
    "session_id = browser.session_id\n",
    "browser.get(f\"https://www.trademap.org/Bilateral_TS.aspx?nvpm=1|360||004||TOTAL|||2|1|1|1|2|1|1|1|1|1\")\n",
    " \n",
    "time.sleep(3)\n",
    " \n",
    "select = Select(WebDriverWait(browser, 10).until(EC.element_to_be_clickable(\n",
    "    (By.XPATH, \"//select[@id='ctl00_NavigationControl_DropDownList_ProductClusterLevel']\"))))\n",
    "select.select_by_value('4')\n",
    "time.sleep(3)\n",
    "\n",
    "select = Select(WebDriverWait(browser, 10).until(EC.element_to_be_clickable(\n",
    "    (By.XPATH, \"//select[@id='ctl00_PageContent_GridViewPanelControl_DropDownList_NumTimePeriod']\"))))\n",
    "select.select_by_value('5')\n",
    "time.sleep(3)\n",
    "\n",
    "select = Select(WebDriverWait(browser, 10).until(EC.element_to_be_clickable(\n",
    "    (By.XPATH, \"//select[@id='ctl00_PageContent_GridViewPanelControl_DropDownList_PageSize']\"))))\n",
    "select.select_by_value('300')\n",
    "time.sleep(5)\n",
    "\n",
    "\n",
    "print (session_id)\n",
    "print (executor_url)\n",
    "\n",
    "def create_driver_session(session_id, executor_url):\n",
    "    from selenium.webdriver.remote.webdriver import WebDriver as RemoteWebDriver\n",
    "\n",
    "    # Save the original function, so we can revert our patch\n",
    "    org_command_execute = RemoteWebDriver.execute\n",
    "\n",
    "    def new_command_execute(self, command, params=None):\n",
    "        if command == \"newSession\":\n",
    "            # Mock the response\n",
    "            return {'success': 0, 'value': None, 'sessionId': session_id}\n",
    "        else:\n",
    "            return org_command_execute(self, command, params)\n",
    "\n",
    "    # Patch the function before creating the driver object\n",
    "    RemoteWebDriver.execute = new_command_execute\n",
    "\n",
    "    new_browser = webdriver.Remote(command_executor=executor_url, desired_capabilities={})\n",
    "    new_browser.session_id = session_id\n",
    "\n",
    "    # Replace the patched function with original function\n",
    "    RemoteWebDriver.execute = org_command_execute\n",
    "\n",
    "    return new_browser\n",
    "\n",
    "browser2 = create_driver_session(session_id, executor_url)\n"
   ]
  },
  {
   "cell_type": "code",
   "execution_count": 300,
   "id": "0f36d39a",
   "metadata": {
    "ExecuteTime": {
     "end_time": "2021-09-27T12:19:11.685199Z",
     "start_time": "2021-09-27T12:17:51.997567Z"
    }
   },
   "outputs": [
    {
     "name": "stdout",
     "output_type": "stream",
     "text": [
      "East Europe not elsewhere specified Started\n"
     ]
    },
    {
     "ename": "AttributeError",
     "evalue": "'NoneType' object has no attribute 'find'",
     "output_type": "error",
     "traceback": [
      "\u001b[0;31m---------------------------------------------------------------------------\u001b[0m",
      "\u001b[0;31mAttributeError\u001b[0m                            Traceback (most recent call last)",
      "\u001b[0;32m<ipython-input-300-5188d806f66c>\u001b[0m in \u001b[0;36m<module>\u001b[0;34m\u001b[0m\n\u001b[1;32m      8\u001b[0m     \u001b[0mhtml_source\u001b[0m \u001b[0;34m=\u001b[0m  \u001b[0mhtml_source_browser\u001b[0m\u001b[0;34m(\u001b[0m\u001b[0;34m'360'\u001b[0m\u001b[0;34m,\u001b[0m \u001b[0mpartner\u001b[0m\u001b[0;34m)\u001b[0m\u001b[0;34m\u001b[0m\u001b[0;34m\u001b[0m\u001b[0m\n\u001b[1;32m      9\u001b[0m     \u001b[0;32mfor\u001b[0m \u001b[0mi\u001b[0m\u001b[0;34m,\u001b[0m \u001b[0mdata\u001b[0m \u001b[0;32min\u001b[0m  \u001b[0menumerate\u001b[0m\u001b[0;34m(\u001b[0m\u001b[0mhtml_source\u001b[0m\u001b[0;34m,\u001b[0m\u001b[0;36m1\u001b[0m\u001b[0;34m)\u001b[0m\u001b[0;34m:\u001b[0m\u001b[0;34m\u001b[0m\u001b[0;34m\u001b[0m\u001b[0m\n\u001b[0;32m---> 10\u001b[0;31m         \u001b[0mweb\u001b[0m \u001b[0;34m=\u001b[0m \u001b[0mdata_import_export_extract\u001b[0m\u001b[0;34m(\u001b[0m\u001b[0mdata\u001b[0m\u001b[0;34m,\u001b[0m\u001b[0mi\u001b[0m\u001b[0;34m)\u001b[0m\u001b[0;34m\u001b[0m\u001b[0;34m\u001b[0m\u001b[0m\n\u001b[0m\u001b[1;32m     11\u001b[0m         \u001b[0mdf\u001b[0m \u001b[0;34m=\u001b[0m \u001b[0minsert_into_list\u001b[0m\u001b[0;34m(\u001b[0m\u001b[0mweb\u001b[0m\u001b[0;34m)\u001b[0m\u001b[0;34m\u001b[0m\u001b[0;34m\u001b[0m\u001b[0m\n\u001b[1;32m     12\u001b[0m         \u001b[0mdf\u001b[0m\u001b[0;34m[\u001b[0m\u001b[0;34m'importer'\u001b[0m\u001b[0;34m]\u001b[0m \u001b[0;34m=\u001b[0m \u001b[0mnama_negara\u001b[0m\u001b[0;34m\u001b[0m\u001b[0;34m\u001b[0m\u001b[0m\n",
      "\u001b[0;32m<ipython-input-281-2c0b2f2326df>\u001b[0m in \u001b[0;36mdata_import_export_extract\u001b[0;34m(html_source, page)\u001b[0m\n\u001b[1;32m      6\u001b[0m     \u001b[0mweb\u001b[0m \u001b[0;34m=\u001b[0m \u001b[0;34m[\u001b[0m\u001b[0;34m]\u001b[0m\u001b[0;34m\u001b[0m\u001b[0;34m\u001b[0m\u001b[0m\n\u001b[1;32m      7\u001b[0m     \u001b[0mtable\u001b[0m \u001b[0;34m=\u001b[0m \u001b[0msoup\u001b[0m\u001b[0;34m.\u001b[0m\u001b[0mfind\u001b[0m\u001b[0;34m(\u001b[0m\u001b[0;34m'table'\u001b[0m\u001b[0;34m,\u001b[0m \u001b[0;34m{\u001b[0m\u001b[0;34m'id'\u001b[0m\u001b[0;34m:\u001b[0m\u001b[0;34m'ctl00_PageContent_MyGridView1'\u001b[0m\u001b[0;34m}\u001b[0m\u001b[0;34m)\u001b[0m\u001b[0;34m\u001b[0m\u001b[0;34m\u001b[0m\u001b[0m\n\u001b[0;32m----> 8\u001b[0;31m     \u001b[0mtable_body\u001b[0m \u001b[0;34m=\u001b[0m \u001b[0mtable\u001b[0m\u001b[0;34m.\u001b[0m\u001b[0mfind\u001b[0m\u001b[0;34m(\u001b[0m\u001b[0;34m'tbody'\u001b[0m\u001b[0;34m)\u001b[0m\u001b[0;34m\u001b[0m\u001b[0;34m\u001b[0m\u001b[0m\n\u001b[0m\u001b[1;32m      9\u001b[0m     \u001b[0mrows\u001b[0m \u001b[0;34m=\u001b[0m \u001b[0mtable_body\u001b[0m\u001b[0;34m.\u001b[0m\u001b[0mfind_all\u001b[0m\u001b[0;34m(\u001b[0m\u001b[0;34m'tr'\u001b[0m\u001b[0;34m)\u001b[0m\u001b[0;34m\u001b[0m\u001b[0;34m\u001b[0m\u001b[0m\n\u001b[1;32m     10\u001b[0m     \u001b[0;32mfor\u001b[0m \u001b[0mrow\u001b[0m \u001b[0;32min\u001b[0m \u001b[0mrows\u001b[0m\u001b[0;34m:\u001b[0m\u001b[0;34m\u001b[0m\u001b[0;34m\u001b[0m\u001b[0m\n",
      "\u001b[0;31mAttributeError\u001b[0m: 'NoneType' object has no attribute 'find'"
     ]
    }
   ],
   "source": [
    "for i,code in enumerate(wrong_input[5:],1):\n",
    "    kolom = ['product_code', 'product_label','2016','2017','2018','2019','2020','importer','exporter']\n",
    "    data_importir = pd.DataFrame(columns= kolom)\n",
    "    partner = code\n",
    "    nama_negara = kode_negara['360']\n",
    "    nama_partner = kode_negara[partner]\n",
    "    print(f\"{nama_partner} Started\")\n",
    "    html_source =  html_source_browser('360', partner)\n",
    "    for i, data in  enumerate(html_source,1):\n",
    "        web = data_import_export_extract(data,i)\n",
    "        df = insert_into_list(web)\n",
    "        df['importer'] = nama_negara\n",
    "        df['exporter'] = nama_partner\n",
    "        data_importir = pd.concat([data_importir, df], ignore_index= True)\n",
    "#     data_importir = data_importir[~data_importir.duplicated()]\n",
    "#     data_importir = data_importir[~data_importir['product_code'].str.contains('[A-Za-z]', na=False)]\n",
    "        data_importir.to_sql('trademap_raw', con=con, if_exists='append')\n",
    "    \n"
   ]
  },
  {
   "cell_type": "code",
   "execution_count": null,
   "id": "684f545c",
   "metadata": {},
   "outputs": [],
   "source": [
    "def satu_negara(kombinasi, kode_negara,html_source_browser,data_import_export_extract,insert_into_list,con):\n",
    "    \n",
    "\n",
    " \n",
    "    \n",
    "    kolom = ['product_code', 'product_label','2016','2017','2018','2019','2020','importer','exporter']\n",
    "    data_importir = pd.DataFrame(columns= kolom)\n",
    "    partner = kombinasi\n",
    "    nama_negara = kode_negara['360']\n",
    "    nama_partner = kode_negara[partner]\n",
    "    print(f\"{nama_partner} Started\")\n",
    "    html_source =  html_source_browser('360', partner)\n",
    "    for i, data in  enumerate(html_source,1):\n",
    "        web = data_import_export_extract(data,i)\n",
    "        df = insert_into_list(web)\n",
    "        df['importer'] = nama_negara\n",
    "        df['exporter'] = nama_partner\n",
    "        data_importir = pd.concat([data_importir, df], ignore_index= True)\n",
    "    data_importir = data_importir[~data_importir.duplicated()]\n",
    "    data_importir = data_importir[~data_importir['product_code'].str.contains('[A-Za-z]', na=False)]\n",
    "    print(len(data_importir))\n",
    "    if len (data_importir) == 1225 :\n",
    "        print(f\"Len rows true\")\n",
    "        data_importir.to_sql('trademap_raw', con=con, if_exists='append')\n",
    "        print(f\"Finished insert DB\")\n",
    "    else:\n",
    "        browser2.refresh()\n",
    "        select = Select(WebDriverWait(browser, 20).until(EC.element_to_be_clickable((By.XPATH, \"//select[@id='ctl00_PageContent_GridViewPanelControl_DropDownList_PageSize']\"))))\n",
    "        select.select_by_value('300')\n",
    "        time.sleep(2)\n",
    "        \n",
    "        satu_negara(partner, kode_negara, html_source_browser,data_import_export_extract,insert_into_list,con)\n",
    "    return data_importir\n",
    "\n",
    "\n",
    "\n",
    " \n"
   ]
  },
  {
   "cell_type": "code",
   "execution_count": 31,
   "id": "939bdd1a",
   "metadata": {
    "ExecuteTime": {
     "end_time": "2021-09-27T05:17:00.513712Z",
     "start_time": "2021-09-27T05:17:00.425199Z"
    }
   },
   "outputs": [],
   "source": [
    "wrong = pd.read_sql_query(\"select exporter from trademap_import  group by exporter having count(*) < 1225;\", con )\n",
    "wrong_input = [ get_key(x) for x in wrong.exporter]"
   ]
  },
  {
   "cell_type": "code",
   "execution_count": 37,
   "id": "7ad26397",
   "metadata": {
    "ExecuteTime": {
     "end_time": "2021-09-27T05:21:40.335816Z",
     "start_time": "2021-09-27T05:21:40.317709Z"
    },
    "scrolled": false
   },
   "outputs": [
    {
     "data": {
      "text/html": [
       "<div>\n",
       "<style scoped>\n",
       "    .dataframe tbody tr th:only-of-type {\n",
       "        vertical-align: middle;\n",
       "    }\n",
       "\n",
       "    .dataframe tbody tr th {\n",
       "        vertical-align: top;\n",
       "    }\n",
       "\n",
       "    .dataframe thead th {\n",
       "        text-align: right;\n",
       "    }\n",
       "</style>\n",
       "<table border=\"1\" class=\"dataframe\">\n",
       "  <thead>\n",
       "    <tr style=\"text-align: right;\">\n",
       "      <th></th>\n",
       "      <th>exporter</th>\n",
       "    </tr>\n",
       "  </thead>\n",
       "  <tbody>\n",
       "    <tr>\n",
       "      <th>0</th>\n",
       "      <td>Bahamas</td>\n",
       "    </tr>\n",
       "    <tr>\n",
       "      <th>1</th>\n",
       "      <td>British Antarctic Territory</td>\n",
       "    </tr>\n",
       "    <tr>\n",
       "      <th>2</th>\n",
       "      <td>Brunei Darussalam</td>\n",
       "    </tr>\n",
       "    <tr>\n",
       "      <th>3</th>\n",
       "      <td>Cocos (Keeling) Islands</td>\n",
       "    </tr>\n",
       "    <tr>\n",
       "      <th>4</th>\n",
       "      <td>Congo</td>\n",
       "    </tr>\n",
       "    <tr>\n",
       "      <th>5</th>\n",
       "      <td>East Europe not elsewhere specified</td>\n",
       "    </tr>\n",
       "    <tr>\n",
       "      <th>6</th>\n",
       "      <td>French Polynesia</td>\n",
       "    </tr>\n",
       "    <tr>\n",
       "      <th>7</th>\n",
       "      <td>Gabon</td>\n",
       "    </tr>\n",
       "    <tr>\n",
       "      <th>8</th>\n",
       "      <td>Gambia</td>\n",
       "    </tr>\n",
       "    <tr>\n",
       "      <th>9</th>\n",
       "      <td>Guinea</td>\n",
       "    </tr>\n",
       "    <tr>\n",
       "      <th>10</th>\n",
       "      <td>Iran, Islamic Republic of</td>\n",
       "    </tr>\n",
       "    <tr>\n",
       "      <th>11</th>\n",
       "      <td>Iraq</td>\n",
       "    </tr>\n",
       "    <tr>\n",
       "      <th>12</th>\n",
       "      <td>Ireland</td>\n",
       "    </tr>\n",
       "    <tr>\n",
       "      <th>13</th>\n",
       "      <td>Israel</td>\n",
       "    </tr>\n",
       "    <tr>\n",
       "      <th>14</th>\n",
       "      <td>Kenya</td>\n",
       "    </tr>\n",
       "    <tr>\n",
       "      <th>15</th>\n",
       "      <td>Kiribati</td>\n",
       "    </tr>\n",
       "    <tr>\n",
       "      <th>16</th>\n",
       "      <td>Lesotho</td>\n",
       "    </tr>\n",
       "  </tbody>\n",
       "</table>\n",
       "</div>"
      ],
      "text/plain": [
       "                               exporter\n",
       "0                               Bahamas\n",
       "1           British Antarctic Territory\n",
       "2                     Brunei Darussalam\n",
       "3               Cocos (Keeling) Islands\n",
       "4                                 Congo\n",
       "5   East Europe not elsewhere specified\n",
       "6                      French Polynesia\n",
       "7                                 Gabon\n",
       "8                                Gambia\n",
       "9                                Guinea\n",
       "10            Iran, Islamic Republic of\n",
       "11                                 Iraq\n",
       "12                              Ireland\n",
       "13                               Israel\n",
       "14                                Kenya\n",
       "15                             Kiribati\n",
       "16                              Lesotho"
      ]
     },
     "execution_count": 37,
     "metadata": {},
     "output_type": "execute_result"
    }
   ],
   "source": [
    "wrong "
   ]
  },
  {
   "cell_type": "markdown",
   "id": "63bde45d",
   "metadata": {
    "heading_collapsed": true
   },
   "source": [
    "# DELETE WRONG INPUT COUNTRY "
   ]
  },
  {
   "cell_type": "code",
   "execution_count": 38,
   "id": "9f816019",
   "metadata": {
    "ExecuteTime": {
     "end_time": "2021-09-27T05:24:01.609003Z",
     "start_time": "2021-09-27T05:24:00.018898Z"
    },
    "hidden": true
   },
   "outputs": [],
   "source": [
    "for code in wrong.exporter:\n",
    "    con.execute(f\"delete from trademap_import where exporter = '{code}'\")\n"
   ]
  },
  {
   "cell_type": "code",
   "execution_count": null,
   "id": "9633610a",
   "metadata": {
    "hidden": true
   },
   "outputs": [],
   "source": [
    "data_importir = pd.read_sql_query(\"SELECT * FROM trademap_fix where exporter = 'Afghanistan'\", con)\n",
    "data_importir = data_importir.drop_duplicates()\n",
    "data_importir =  data_importir[data_importir['product_label'].str.contains('[A-Za-z]', na=False)]\n",
    "data_importir = data_importir[~data_importir['product_code'].str.contains('[A-Za-z]', na=False)]\n",
    "data_importir"
   ]
  },
  {
   "cell_type": "code",
   "execution_count": 182,
   "id": "9b4caf8d",
   "metadata": {
    "ExecuteTime": {
     "end_time": "2021-09-24T18:38:40.583614Z",
     "start_time": "2021-09-24T18:33:08.057386Z"
    },
    "code_folding": [],
    "hidden": true,
    "scrolled": true
   },
   "outputs": [
    {
     "name": "stdout",
     "output_type": "stream",
     "text": [
      "https://www.trademap.org/Bilateral_TS.aspx?nvpm=1%7c360%7c%7c004%7c%7cTOTAL%7c%7c%7c4%7c1%7c1%7c1%7c2%7c1%7c1%7c1%7c1%7c1\n",
      "148/252 Started\n",
      "Micronesia, Federated States of\n",
      "https://www.trademap.org/Bilateral_TS.aspx?nvpm=1%7c360%7c%7c004%7c%7cTOTAL%7c%7c%7c4%7c1%7c1%7c1%7c2%7c1%7c1%7c1%7c1%7c1\n",
      "Micronesia, Federated States of Started\n"
     ]
    },
    {
     "ename": "WebDriverException",
     "evalue": "Message: Failed to decode response from marionette\n",
     "output_type": "error",
     "traceback": [
      "\u001b[0;31m---------------------------------------------------------------------------\u001b[0m",
      "\u001b[0;31mWebDriverException\u001b[0m                        Traceback (most recent call last)",
      "\u001b[0;32m<ipython-input-182-d05b0f3d9537>\u001b[0m in \u001b[0;36m<module>\u001b[0;34m\u001b[0m\n\u001b[1;32m     52\u001b[0m                \u001b[0mvars\u001b[0m\u001b[0;34m(\u001b[0m\u001b[0;34m)\u001b[0m\u001b[0;34m[\u001b[0m\u001b[0;34mf'data_import_{partner}'\u001b[0m\u001b[0;34m]\u001b[0m  \u001b[0;34m=\u001b[0m \u001b[0mdata_importir\u001b[0m\u001b[0;34m\u001b[0m\u001b[0;34m\u001b[0m\u001b[0m\n\u001b[1;32m     53\u001b[0m            \u001b[0;32melse\u001b[0m\u001b[0;34m:\u001b[0m\u001b[0;34m\u001b[0m\u001b[0;34m\u001b[0m\u001b[0m\n\u001b[0;32m---> 54\u001b[0;31m                \u001b[0msatu_negara\u001b[0m\u001b[0;34m(\u001b[0m\u001b[0mpartner\u001b[0m\u001b[0;34m,\u001b[0m \u001b[0mkode_negara\u001b[0m\u001b[0;34m,\u001b[0m \u001b[0mhtml_source_browser\u001b[0m\u001b[0;34m,\u001b[0m\u001b[0mdata_import_export_extract\u001b[0m\u001b[0;34m,\u001b[0m\u001b[0minsert_into_list\u001b[0m\u001b[0;34m,\u001b[0m\u001b[0mcon\u001b[0m\u001b[0;34m)\u001b[0m\u001b[0;34m\u001b[0m\u001b[0;34m\u001b[0m\u001b[0m\n\u001b[0m\u001b[1;32m     55\u001b[0m    \u001b[0;32melif\u001b[0m \u001b[0mi\u001b[0m \u001b[0;34m>=\u001b[0m \u001b[0;36m147\u001b[0m \u001b[0;32mand\u001b[0m \u001b[0mi\u001b[0m \u001b[0;34m<=\u001b[0m \u001b[0mlen\u001b[0m\u001b[0;34m(\u001b[0m\u001b[0mkombinasi_negara\u001b[0m\u001b[0;34m)\u001b[0m \u001b[0;32mand\u001b[0m \u001b[0mi\u001b[0m   \u001b[0;32min\u001b[0m \u001b[0miterasi\u001b[0m \u001b[0;34m:\u001b[0m\u001b[0;34m\u001b[0m\u001b[0;34m\u001b[0m\u001b[0m\n\u001b[1;32m     56\u001b[0m        \u001b[0msatu_negara\u001b[0m\u001b[0;34m(\u001b[0m\u001b[0mkombinasi\u001b[0m\u001b[0;34m,\u001b[0m \u001b[0mkode_negara\u001b[0m\u001b[0;34m,\u001b[0m\u001b[0mhtml_source_browser\u001b[0m\u001b[0;34m,\u001b[0m\u001b[0mdata_import_export_extract\u001b[0m\u001b[0;34m,\u001b[0m\u001b[0minsert_into_list\u001b[0m\u001b[0;34m,\u001b[0m \u001b[0mcon\u001b[0m \u001b[0;34m)\u001b[0m\u001b[0;34m\u001b[0m\u001b[0;34m\u001b[0m\u001b[0m\n",
      "\u001b[0;32m<ipython-input-180-84f89c69caad>\u001b[0m in \u001b[0;36msatu_negara\u001b[0;34m(kombinasi, kode_negara, html_source_browser, data_import_export_extract, insert_into_list, con)\u001b[0m\n\u001b[1;32m     53\u001b[0m         \u001b[0mvars\u001b[0m\u001b[0;34m(\u001b[0m\u001b[0;34m)\u001b[0m\u001b[0;34m[\u001b[0m\u001b[0;34mf'data_import_{partner}'\u001b[0m\u001b[0;34m]\u001b[0m  \u001b[0;34m=\u001b[0m \u001b[0mdata_importir\u001b[0m\u001b[0;34m\u001b[0m\u001b[0;34m\u001b[0m\u001b[0m\n\u001b[1;32m     54\u001b[0m     \u001b[0;32melse\u001b[0m\u001b[0;34m:\u001b[0m\u001b[0;34m\u001b[0m\u001b[0;34m\u001b[0m\u001b[0m\n\u001b[0;32m---> 55\u001b[0;31m         \u001b[0msatu_negara\u001b[0m\u001b[0;34m(\u001b[0m\u001b[0mpartner\u001b[0m\u001b[0;34m,\u001b[0m \u001b[0mkode_negara\u001b[0m\u001b[0;34m,\u001b[0m \u001b[0mhtml_source_browser\u001b[0m\u001b[0;34m,\u001b[0m\u001b[0mdata_import_export_extract\u001b[0m\u001b[0;34m,\u001b[0m\u001b[0minsert_into_list\u001b[0m\u001b[0;34m,\u001b[0m\u001b[0mcon\u001b[0m\u001b[0;34m)\u001b[0m\u001b[0;34m\u001b[0m\u001b[0;34m\u001b[0m\u001b[0m\n\u001b[0m\u001b[1;32m     56\u001b[0m     \u001b[0;32mreturn\u001b[0m \u001b[0mdata_importir\u001b[0m\u001b[0;34m\u001b[0m\u001b[0;34m\u001b[0m\u001b[0m\n\u001b[1;32m     57\u001b[0m \u001b[0;34m\u001b[0m\u001b[0m\n",
      "\u001b[0;32m<ipython-input-180-84f89c69caad>\u001b[0m in \u001b[0;36msatu_negara\u001b[0;34m(kombinasi, kode_negara, html_source_browser, data_import_export_extract, insert_into_list, con)\u001b[0m\n\u001b[1;32m     15\u001b[0m \u001b[0;34m\u001b[0m\u001b[0m\n\u001b[1;32m     16\u001b[0m     select = Select(WebDriverWait(browser, 30).until(EC.element_to_be_clickable(\n\u001b[0;32m---> 17\u001b[0;31m         (By.XPATH, \"//select[@id='ctl00_PageContent_GridViewPanelControl_DropDownList_NumTimePeriod']\"))))\n\u001b[0m\u001b[1;32m     18\u001b[0m     \u001b[0mselect\u001b[0m\u001b[0;34m.\u001b[0m\u001b[0mselect_by_value\u001b[0m\u001b[0;34m(\u001b[0m\u001b[0;34m'5'\u001b[0m\u001b[0;34m)\u001b[0m\u001b[0;34m\u001b[0m\u001b[0;34m\u001b[0m\u001b[0m\n\u001b[1;32m     19\u001b[0m     \u001b[0mtime\u001b[0m\u001b[0;34m.\u001b[0m\u001b[0msleep\u001b[0m\u001b[0;34m(\u001b[0m\u001b[0;36m3\u001b[0m\u001b[0;34m)\u001b[0m\u001b[0;34m\u001b[0m\u001b[0;34m\u001b[0m\u001b[0m\n",
      "\u001b[0;32m~/anaconda3/lib/python3.7/site-packages/selenium/webdriver/support/wait.py\u001b[0m in \u001b[0;36muntil\u001b[0;34m(self, method, message)\u001b[0m\n\u001b[1;32m     69\u001b[0m         \u001b[0;32mwhile\u001b[0m \u001b[0;32mTrue\u001b[0m\u001b[0;34m:\u001b[0m\u001b[0;34m\u001b[0m\u001b[0;34m\u001b[0m\u001b[0m\n\u001b[1;32m     70\u001b[0m             \u001b[0;32mtry\u001b[0m\u001b[0;34m:\u001b[0m\u001b[0;34m\u001b[0m\u001b[0;34m\u001b[0m\u001b[0m\n\u001b[0;32m---> 71\u001b[0;31m                 \u001b[0mvalue\u001b[0m \u001b[0;34m=\u001b[0m \u001b[0mmethod\u001b[0m\u001b[0;34m(\u001b[0m\u001b[0mself\u001b[0m\u001b[0;34m.\u001b[0m\u001b[0m_driver\u001b[0m\u001b[0;34m)\u001b[0m\u001b[0;34m\u001b[0m\u001b[0;34m\u001b[0m\u001b[0m\n\u001b[0m\u001b[1;32m     72\u001b[0m                 \u001b[0;32mif\u001b[0m \u001b[0mvalue\u001b[0m\u001b[0;34m:\u001b[0m\u001b[0;34m\u001b[0m\u001b[0;34m\u001b[0m\u001b[0m\n\u001b[1;32m     73\u001b[0m                     \u001b[0;32mreturn\u001b[0m \u001b[0mvalue\u001b[0m\u001b[0;34m\u001b[0m\u001b[0;34m\u001b[0m\u001b[0m\n",
      "\u001b[0;32m~/anaconda3/lib/python3.7/site-packages/selenium/webdriver/support/expected_conditions.py\u001b[0m in \u001b[0;36m__call__\u001b[0;34m(self, driver)\u001b[0m\n\u001b[1;32m    295\u001b[0m \u001b[0;34m\u001b[0m\u001b[0m\n\u001b[1;32m    296\u001b[0m     \u001b[0;32mdef\u001b[0m \u001b[0m__call__\u001b[0m\u001b[0;34m(\u001b[0m\u001b[0mself\u001b[0m\u001b[0;34m,\u001b[0m \u001b[0mdriver\u001b[0m\u001b[0;34m)\u001b[0m\u001b[0;34m:\u001b[0m\u001b[0;34m\u001b[0m\u001b[0;34m\u001b[0m\u001b[0m\n\u001b[0;32m--> 297\u001b[0;31m         \u001b[0melement\u001b[0m \u001b[0;34m=\u001b[0m \u001b[0mvisibility_of_element_located\u001b[0m\u001b[0;34m(\u001b[0m\u001b[0mself\u001b[0m\u001b[0;34m.\u001b[0m\u001b[0mlocator\u001b[0m\u001b[0;34m)\u001b[0m\u001b[0;34m(\u001b[0m\u001b[0mdriver\u001b[0m\u001b[0;34m)\u001b[0m\u001b[0;34m\u001b[0m\u001b[0;34m\u001b[0m\u001b[0m\n\u001b[0m\u001b[1;32m    298\u001b[0m         \u001b[0;32mif\u001b[0m \u001b[0melement\u001b[0m \u001b[0;32mand\u001b[0m \u001b[0melement\u001b[0m\u001b[0;34m.\u001b[0m\u001b[0mis_enabled\u001b[0m\u001b[0;34m(\u001b[0m\u001b[0;34m)\u001b[0m\u001b[0;34m:\u001b[0m\u001b[0;34m\u001b[0m\u001b[0;34m\u001b[0m\u001b[0m\n\u001b[1;32m    299\u001b[0m             \u001b[0;32mreturn\u001b[0m \u001b[0melement\u001b[0m\u001b[0;34m\u001b[0m\u001b[0;34m\u001b[0m\u001b[0m\n",
      "\u001b[0;32m~/anaconda3/lib/python3.7/site-packages/selenium/webdriver/support/expected_conditions.py\u001b[0m in \u001b[0;36m__call__\u001b[0;34m(self, driver)\u001b[0m\n\u001b[1;32m    126\u001b[0m     \u001b[0;32mdef\u001b[0m \u001b[0m__call__\u001b[0m\u001b[0;34m(\u001b[0m\u001b[0mself\u001b[0m\u001b[0;34m,\u001b[0m \u001b[0mdriver\u001b[0m\u001b[0;34m)\u001b[0m\u001b[0;34m:\u001b[0m\u001b[0;34m\u001b[0m\u001b[0;34m\u001b[0m\u001b[0m\n\u001b[1;32m    127\u001b[0m         \u001b[0;32mtry\u001b[0m\u001b[0;34m:\u001b[0m\u001b[0;34m\u001b[0m\u001b[0;34m\u001b[0m\u001b[0m\n\u001b[0;32m--> 128\u001b[0;31m             \u001b[0;32mreturn\u001b[0m \u001b[0m_element_if_visible\u001b[0m\u001b[0;34m(\u001b[0m\u001b[0m_find_element\u001b[0m\u001b[0;34m(\u001b[0m\u001b[0mdriver\u001b[0m\u001b[0;34m,\u001b[0m \u001b[0mself\u001b[0m\u001b[0;34m.\u001b[0m\u001b[0mlocator\u001b[0m\u001b[0;34m)\u001b[0m\u001b[0;34m)\u001b[0m\u001b[0;34m\u001b[0m\u001b[0;34m\u001b[0m\u001b[0m\n\u001b[0m\u001b[1;32m    129\u001b[0m         \u001b[0;32mexcept\u001b[0m \u001b[0mStaleElementReferenceException\u001b[0m\u001b[0;34m:\u001b[0m\u001b[0;34m\u001b[0m\u001b[0;34m\u001b[0m\u001b[0m\n\u001b[1;32m    130\u001b[0m             \u001b[0;32mreturn\u001b[0m \u001b[0;32mFalse\u001b[0m\u001b[0;34m\u001b[0m\u001b[0;34m\u001b[0m\u001b[0m\n",
      "\u001b[0;32m~/anaconda3/lib/python3.7/site-packages/selenium/webdriver/support/expected_conditions.py\u001b[0m in \u001b[0;36m_find_element\u001b[0;34m(driver, by)\u001b[0m\n\u001b[1;32m    413\u001b[0m         \u001b[0;32mraise\u001b[0m \u001b[0me\u001b[0m\u001b[0;34m\u001b[0m\u001b[0;34m\u001b[0m\u001b[0m\n\u001b[1;32m    414\u001b[0m     \u001b[0;32mexcept\u001b[0m \u001b[0mWebDriverException\u001b[0m \u001b[0;32mas\u001b[0m \u001b[0me\u001b[0m\u001b[0;34m:\u001b[0m\u001b[0;34m\u001b[0m\u001b[0;34m\u001b[0m\u001b[0m\n\u001b[0;32m--> 415\u001b[0;31m         \u001b[0;32mraise\u001b[0m \u001b[0me\u001b[0m\u001b[0;34m\u001b[0m\u001b[0;34m\u001b[0m\u001b[0m\n\u001b[0m\u001b[1;32m    416\u001b[0m \u001b[0;34m\u001b[0m\u001b[0m\n\u001b[1;32m    417\u001b[0m \u001b[0;34m\u001b[0m\u001b[0m\n",
      "\u001b[0;32m~/anaconda3/lib/python3.7/site-packages/selenium/webdriver/support/expected_conditions.py\u001b[0m in \u001b[0;36m_find_element\u001b[0;34m(driver, by)\u001b[0m\n\u001b[1;32m    409\u001b[0m     if thrown.\"\"\"\n\u001b[1;32m    410\u001b[0m     \u001b[0;32mtry\u001b[0m\u001b[0;34m:\u001b[0m\u001b[0;34m\u001b[0m\u001b[0;34m\u001b[0m\u001b[0m\n\u001b[0;32m--> 411\u001b[0;31m         \u001b[0;32mreturn\u001b[0m \u001b[0mdriver\u001b[0m\u001b[0;34m.\u001b[0m\u001b[0mfind_element\u001b[0m\u001b[0;34m(\u001b[0m\u001b[0;34m*\u001b[0m\u001b[0mby\u001b[0m\u001b[0;34m)\u001b[0m\u001b[0;34m\u001b[0m\u001b[0;34m\u001b[0m\u001b[0m\n\u001b[0m\u001b[1;32m    412\u001b[0m     \u001b[0;32mexcept\u001b[0m \u001b[0mNoSuchElementException\u001b[0m \u001b[0;32mas\u001b[0m \u001b[0me\u001b[0m\u001b[0;34m:\u001b[0m\u001b[0;34m\u001b[0m\u001b[0;34m\u001b[0m\u001b[0m\n\u001b[1;32m    413\u001b[0m         \u001b[0;32mraise\u001b[0m \u001b[0me\u001b[0m\u001b[0;34m\u001b[0m\u001b[0;34m\u001b[0m\u001b[0m\n",
      "\u001b[0;32m~/anaconda3/lib/python3.7/site-packages/selenium/webdriver/remote/webdriver.py\u001b[0m in \u001b[0;36mfind_element\u001b[0;34m(self, by, value)\u001b[0m\n\u001b[1;32m    976\u001b[0m         return self.execute(Command.FIND_ELEMENT, {\n\u001b[1;32m    977\u001b[0m             \u001b[0;34m'using'\u001b[0m\u001b[0;34m:\u001b[0m \u001b[0mby\u001b[0m\u001b[0;34m,\u001b[0m\u001b[0;34m\u001b[0m\u001b[0;34m\u001b[0m\u001b[0m\n\u001b[0;32m--> 978\u001b[0;31m             'value': value})['value']\n\u001b[0m\u001b[1;32m    979\u001b[0m \u001b[0;34m\u001b[0m\u001b[0m\n\u001b[1;32m    980\u001b[0m     \u001b[0;32mdef\u001b[0m \u001b[0mfind_elements\u001b[0m\u001b[0;34m(\u001b[0m\u001b[0mself\u001b[0m\u001b[0;34m,\u001b[0m \u001b[0mby\u001b[0m\u001b[0;34m=\u001b[0m\u001b[0mBy\u001b[0m\u001b[0;34m.\u001b[0m\u001b[0mID\u001b[0m\u001b[0;34m,\u001b[0m \u001b[0mvalue\u001b[0m\u001b[0;34m=\u001b[0m\u001b[0;32mNone\u001b[0m\u001b[0;34m)\u001b[0m\u001b[0;34m:\u001b[0m\u001b[0;34m\u001b[0m\u001b[0;34m\u001b[0m\u001b[0m\n",
      "\u001b[0;32m~/anaconda3/lib/python3.7/site-packages/selenium/webdriver/remote/webdriver.py\u001b[0m in \u001b[0;36mexecute\u001b[0;34m(self, driver_command, params)\u001b[0m\n\u001b[1;32m    319\u001b[0m         \u001b[0mresponse\u001b[0m \u001b[0;34m=\u001b[0m \u001b[0mself\u001b[0m\u001b[0;34m.\u001b[0m\u001b[0mcommand_executor\u001b[0m\u001b[0;34m.\u001b[0m\u001b[0mexecute\u001b[0m\u001b[0;34m(\u001b[0m\u001b[0mdriver_command\u001b[0m\u001b[0;34m,\u001b[0m \u001b[0mparams\u001b[0m\u001b[0;34m)\u001b[0m\u001b[0;34m\u001b[0m\u001b[0;34m\u001b[0m\u001b[0m\n\u001b[1;32m    320\u001b[0m         \u001b[0;32mif\u001b[0m \u001b[0mresponse\u001b[0m\u001b[0;34m:\u001b[0m\u001b[0;34m\u001b[0m\u001b[0;34m\u001b[0m\u001b[0m\n\u001b[0;32m--> 321\u001b[0;31m             \u001b[0mself\u001b[0m\u001b[0;34m.\u001b[0m\u001b[0merror_handler\u001b[0m\u001b[0;34m.\u001b[0m\u001b[0mcheck_response\u001b[0m\u001b[0;34m(\u001b[0m\u001b[0mresponse\u001b[0m\u001b[0;34m)\u001b[0m\u001b[0;34m\u001b[0m\u001b[0;34m\u001b[0m\u001b[0m\n\u001b[0m\u001b[1;32m    322\u001b[0m             response['value'] = self._unwrap_value(\n\u001b[1;32m    323\u001b[0m                 response.get('value', None))\n",
      "\u001b[0;32m~/anaconda3/lib/python3.7/site-packages/selenium/webdriver/remote/errorhandler.py\u001b[0m in \u001b[0;36mcheck_response\u001b[0;34m(self, response)\u001b[0m\n\u001b[1;32m    240\u001b[0m                 \u001b[0malert_text\u001b[0m \u001b[0;34m=\u001b[0m \u001b[0mvalue\u001b[0m\u001b[0;34m[\u001b[0m\u001b[0;34m'alert'\u001b[0m\u001b[0;34m]\u001b[0m\u001b[0;34m.\u001b[0m\u001b[0mget\u001b[0m\u001b[0;34m(\u001b[0m\u001b[0;34m'text'\u001b[0m\u001b[0;34m)\u001b[0m\u001b[0;34m\u001b[0m\u001b[0;34m\u001b[0m\u001b[0m\n\u001b[1;32m    241\u001b[0m             \u001b[0;32mraise\u001b[0m \u001b[0mexception_class\u001b[0m\u001b[0;34m(\u001b[0m\u001b[0mmessage\u001b[0m\u001b[0;34m,\u001b[0m \u001b[0mscreen\u001b[0m\u001b[0;34m,\u001b[0m \u001b[0mstacktrace\u001b[0m\u001b[0;34m,\u001b[0m \u001b[0malert_text\u001b[0m\u001b[0;34m)\u001b[0m\u001b[0;34m\u001b[0m\u001b[0;34m\u001b[0m\u001b[0m\n\u001b[0;32m--> 242\u001b[0;31m         \u001b[0;32mraise\u001b[0m \u001b[0mexception_class\u001b[0m\u001b[0;34m(\u001b[0m\u001b[0mmessage\u001b[0m\u001b[0;34m,\u001b[0m \u001b[0mscreen\u001b[0m\u001b[0;34m,\u001b[0m \u001b[0mstacktrace\u001b[0m\u001b[0;34m)\u001b[0m\u001b[0;34m\u001b[0m\u001b[0;34m\u001b[0m\u001b[0m\n\u001b[0m\u001b[1;32m    243\u001b[0m \u001b[0;34m\u001b[0m\u001b[0m\n\u001b[1;32m    244\u001b[0m     \u001b[0;32mdef\u001b[0m \u001b[0m_value_or_default\u001b[0m\u001b[0;34m(\u001b[0m\u001b[0mself\u001b[0m\u001b[0;34m,\u001b[0m \u001b[0mobj\u001b[0m\u001b[0;34m,\u001b[0m \u001b[0mkey\u001b[0m\u001b[0;34m,\u001b[0m \u001b[0mdefault\u001b[0m\u001b[0;34m)\u001b[0m\u001b[0;34m:\u001b[0m\u001b[0;34m\u001b[0m\u001b[0;34m\u001b[0m\u001b[0m\n",
      "\u001b[0;31mWebDriverException\u001b[0m: Message: Failed to decode response from marionette\n"
     ]
    }
   ],
   "source": [
    "\n",
    "\n",
    "kolom = ['product_code', 'product_label','2016','2017','2018','2019','2020','importer','exporter']\n",
    "data_importir = pd.DataFrame(columns= kolom)\n",
    "iterasi = [x for x in range(157,300,10)]\n",
    "for i,kombinasi in enumerate(kombinasi_negara,1):\n",
    "    if i >= 148 and i <= len(kombinasi_negara) and i not in iterasi :\n",
    "            data_importir = pd.DataFrame(columns= kolom)\n",
    "            print(f\"{i}/{len(kombinasi_negara)} Started\")\n",
    "            partner = kombinasi\n",
    "            nama_negara = kode_negara['360']\n",
    "            nama_partner = kode_negara[partner]\n",
    "            print(nama_partner)\n",
    "            html_source =  html_source_browser('360', partner)\n",
    "            for i, data in  enumerate(html_source,1):\n",
    "                    web = data_import_export_extract(data,i)\n",
    "                    df = insert_into_list(web)\n",
    "                    df['importer'] = nama_negara\n",
    "                    df['exporter'] = nama_partner\n",
    "                    data_importir = pd.concat([data_importir, df], ignore_index= True)\n",
    "                    data_importir = data_importir[data_importir.product_code != \"1\" ]\n",
    "                    data_importir =  data_importir[data_importir['product_label'].str.contains('[A-Za-z]', na=False)]\n",
    "                    data_importir = data_importir[~data_importir['product_code'].str.contains('[A-Za-z]', na=False)]\n",
    "                    data_importir.drop_duplicates(subset=None, keep=\"first\", inplace=True)\n",
    "            if len (data_importir) == 1225 :\n",
    "                print(f\"True\")\n",
    "                data_importir.to_sql('trademap_fix', con=con, if_exists='append')\n",
    "                print(f\"Page {i} insert DB\")\n",
    "                vars()[f'data_import_{partner}']  = data_importir\n",
    "            else:\n",
    "                satu_negara(partner, kode_negara, html_source_browser,data_import_export_extract,insert_into_list,con)\n",
    "    elif i >= 147 and i <= len(kombinasi_negara) and i   in iterasi : \n",
    "        satu_negara(kombinasi, kode_negara,html_source_browser,data_import_export_extract,insert_into_list, con )\n",
    "\n"
   ]
  },
  {
   "cell_type": "markdown",
   "id": "56689b81",
   "metadata": {},
   "source": [
    "# Export "
   ]
  },
  {
   "cell_type": "code",
   "execution_count": null,
   "id": "682d4fa4",
   "metadata": {
    "ExecuteTime": {
     "end_time": "2021-09-23T18:23:45.117297Z",
     "start_time": "2021-09-23T18:01:56.911Z"
    }
   },
   "outputs": [],
   "source": [
    "\n",
    "browser = webdriver.Firefox()\n",
    "executor_url = browser.command_executor._url\n",
    "session_id = browser.session_id\n",
    "browser.get(f\"https://www.trademap.org/Bilateral_TS.aspx?nvpm=1|360||004||TOTAL|||2|1|1|2|2|1|1|1|1|1\")\n",
    "\n",
    "select = Select(WebDriverWait(browser, 20).until(\n",
    "    EC.element_to_be_clickable((By.XPATH, \"//select[@id='ctl00_NavigationControl_DropDownList_Country']\"))))\n",
    "select.select_by_value(negara)\n",
    "time.sleep(3)\n",
    "select = Select(WebDriverWait(browser, 20).until(\n",
    "    EC.element_to_be_clickable((By.XPATH, \"//select[@id='ctl00_NavigationControl_DropDownList_Partner']\"))))\n",
    "select.select_by_value(partner)\n",
    "time.sleep(3)\n",
    "\n",
    "select = Select(WebDriverWait(browser, 20).until(EC.element_to_be_clickable(\n",
    "    (By.XPATH, \"//select[@id='ctl00_NavigationControl_DropDownList_ProductClusterLevel']\"))))\n",
    "select.select_by_value('4')\n",
    "time.sleep(3)\n",
    "\n",
    "select = Select(WebDriverWait(browser, 30).until(EC.element_to_be_clickable(\n",
    "    (By.XPATH, \"//select[@id='ctl00_PageContent_GridViewPanelControl_DropDownList_NumTimePeriod']\"))))\n",
    "select.select_by_value('5')\n",
    "time.sleep(3)\n",
    "\n",
    "select = Select(WebDriverWait(browser, 40).until(EC.element_to_be_clickable(\n",
    "    (By.XPATH, \"//select[@id='ctl00_PageContent_GridViewPanelControl_DropDownList_PageSize']\"))))\n",
    "select.select_by_value('300')\n",
    "time.sleep(5)\n",
    "\n",
    "\n",
    "print (session_id)\n",
    "print (executor_url)\n",
    "\n",
    "def create_driver_session(session_id, executor_url):\n",
    "    from selenium.webdriver.remote.webdriver import WebDriver as RemoteWebDriver\n",
    "\n",
    "    # Save the original function, so we can revert our patch\n",
    "    org_command_execute = RemoteWebDriver.execute\n",
    "\n",
    "    def new_command_execute(self, command, params=None):\n",
    "        if command == \"newSession\":\n",
    "            # Mock the response\n",
    "            return {'success': 0, 'value': None, 'sessionId': session_id}\n",
    "        else:\n",
    "            return org_command_execute(self, command, params)\n",
    "\n",
    "    # Patch the function before creating the driver object\n",
    "    RemoteWebDriver.execute = new_command_execute\n",
    "\n",
    "    new_browser = webdriver.Remote(command_executor=executor_url, desired_capabilities={})\n",
    "    new_browser.session_id = session_id\n",
    "\n",
    "    # Replace the patched function with original function\n",
    "    RemoteWebDriver.execute = org_command_execute\n",
    "\n",
    "    return new_browser\n",
    "\n",
    "browser2 = create_driver_session(session_id, executor_url)\n",
    "# print (browser.current_url)"
   ]
  },
  {
   "cell_type": "code",
   "execution_count": null,
   "id": "fce7bb5a",
   "metadata": {
    "ExecuteTime": {
     "end_time": "2021-09-23T18:23:45.118436Z",
     "start_time": "2021-09-23T18:02:07.394Z"
    }
   },
   "outputs": [],
   "source": [
    "kolom = ['product_code', 'product_label','2016','2017','2018','2019','2020','importer','exporter']\n",
    "data_exportir = pd.DataFrame(columns= kolom)\n",
    "for i,kombinasi in enumerate(kombinasi_negara,1):\n",
    "    if i < len(kombinasi_negara) :\n",
    "            data_importir = pd.DataFrame(columns= kolom)\n",
    "            print(f\"{i}/{len(kombinasi_negara)} Started\")\n",
    "            partner = kombinasi\n",
    "            nama_negara = kode_negara['360']\n",
    "            nama_partner = kode_negara[partner]\n",
    "            print(nama_partner)\n",
    "            html_source =  html_source_browser('360', partner)\n",
    "            for i, data in  enumerate(html_source,1):\n",
    "                web = data_import_export_extract(data,i)\n",
    "                df = insert_into_list(web)\n",
    "                df['importer'] = nama_partner  \n",
    "                df['exporter'] = nama_negara\n",
    "                data_exportir = pd.concat([data_exportir, df], ignore_index= True)\n",
    "#                 data_importir = data_importir[data_importir.product_code != \"1\" ]\n",
    "#                 data_importir = data_importir.reset_index(drop=True)\n",
    "                data_exportir.to_sql('trademap_exportir', con=con, if_exists='append')\n",
    "            \n",
    "                print(f\"Page {i} insert DB\")\n",
    "            \n",
    "            vars()[f'data_export_{partner}']  = data_exportir\n",
    "\n",
    "\n",
    "\n",
    "\n"
   ]
  }
 ],
 "metadata": {
  "kernelspec": {
   "display_name": "Python 3",
   "language": "python",
   "name": "python3"
  },
  "language_info": {
   "codemirror_mode": {
    "name": "ipython",
    "version": 3
   },
   "file_extension": ".py",
   "mimetype": "text/x-python",
   "name": "python",
   "nbconvert_exporter": "python",
   "pygments_lexer": "ipython3",
   "version": "3.7.7"
  },
  "toc": {
   "base_numbering": 1,
   "nav_menu": {},
   "number_sections": true,
   "sideBar": true,
   "skip_h1_title": false,
   "title_cell": "Table of Contents",
   "title_sidebar": "Contents",
   "toc_cell": false,
   "toc_position": {},
   "toc_section_display": true,
   "toc_window_display": false
  }
 },
 "nbformat": 4,
 "nbformat_minor": 5
}
