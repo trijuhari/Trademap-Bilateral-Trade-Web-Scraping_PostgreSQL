{
 "cells": [
  {
   "cell_type": "markdown",
   "id": "916c3e6f",
   "metadata": {
    "ExecuteTime": {
     "end_time": "2021-08-23T10:33:09.869510Z",
     "start_time": "2021-08-23T10:33:09.863023Z"
    }
   },
   "source": [
    "# Import  Library "
   ]
  },
  {
   "cell_type": "code",
   "execution_count": 27,
   "id": "d0e706bb",
   "metadata": {
    "ExecuteTime": {
     "end_time": "2021-09-21T13:31:22.778727Z",
     "start_time": "2021-09-21T13:31:22.772059Z"
    }
   },
   "outputs": [],
   "source": [
    "from selenium import webdriver\n",
    "from selenium.common.exceptions import NoSuchElementException\n",
    "from selenium.webdriver.common.keys import Keys\n",
    "from bs4 import BeautifulSoup\n",
    "from selenium.webdriver.support.ui import Select\n",
    "from selenium.webdriver.common.by import By\n",
    "from selenium.webdriver.support.ui import WebDriverWait\n",
    "from selenium.webdriver.support import expected_conditions as EC\n",
    "from selenium.common.exceptions import TimeoutException\n",
    "import time \n",
    "import pandas as pd \n",
    "from itertools import permutations\n"
   ]
  },
  {
   "cell_type": "markdown",
   "id": "fea4bb5f",
   "metadata": {},
   "source": [
    "# Get Country Code "
   ]
  },
  {
   "cell_type": "code",
   "execution_count": 35,
   "id": "ef4dcfe7",
   "metadata": {
    "ExecuteTime": {
     "end_time": "2021-09-21T13:38:53.367030Z",
     "start_time": "2021-09-21T13:38:19.259175Z"
    }
   },
   "outputs": [],
   "source": [
    "browser = webdriver.Firefox()\n",
    "browser.get('https://www.trademap.org/Bilateral_TS.aspx?nvpm=1|360||156||TOTAL|||2|1|1|1|2|1|1|1||1')\n",
    "browser.find_element_by_id(\"ctl00_NavigationControl_DropDownList_Country\")\n",
    "html_source = browser.page_source\n",
    "browser.quit()\n",
    "\n"
   ]
  },
  {
   "cell_type": "code",
   "execution_count": 56,
   "id": "4bb54e06",
   "metadata": {
    "ExecuteTime": {
     "end_time": "2021-09-21T13:47:05.746968Z",
     "start_time": "2021-09-21T13:47:04.178226Z"
    }
   },
   "outputs": [],
   "source": [
    "soup = BeautifulSoup(html_source,'html.parser')\n",
    "#class \"postText\" is not defined in the source code\n",
    "comments = soup.findAll('option')\n",
    "comments = comments[105:358]\n"
   ]
  },
  {
   "cell_type": "code",
   "execution_count": 62,
   "id": "dd9e55d6",
   "metadata": {
    "ExecuteTime": {
     "end_time": "2021-09-21T13:49:18.336341Z",
     "start_time": "2021-09-21T13:49:18.318264Z"
    },
    "scrolled": true
   },
   "outputs": [
    {
     "data": {
      "text/plain": [
       "<option title=\"Afghanistan\" value=\"004\">Afghanistan</option>"
      ]
     },
     "execution_count": 62,
     "metadata": {},
     "output_type": "execute_result"
    }
   ],
   "source": [
    "comments[0]"
   ]
  },
  {
   "cell_type": "code",
   "execution_count": 72,
   "id": "23a64a5e",
   "metadata": {
    "ExecuteTime": {
     "end_time": "2021-09-21T13:53:47.056946Z",
     "start_time": "2021-09-21T13:53:47.049057Z"
    }
   },
   "outputs": [],
   "source": [
    "kode_negara = {}\n",
    "for negara in comments :\n",
    "    kode_negara[negara['value']]= negara['title']"
   ]
  },
  {
   "cell_type": "code",
   "execution_count": 78,
   "id": "9fd84f43",
   "metadata": {
    "ExecuteTime": {
     "end_time": "2021-09-21T13:55:25.776509Z",
     "start_time": "2021-09-21T13:55:25.766491Z"
    }
   },
   "outputs": [],
   "source": [
    "kombinasi_negara = []\n",
    "for  key, value in kode_negara.items():\n",
    "    kombinasi_negara.append(('360', key))\n",
    "    \n"
   ]
  },
  {
   "cell_type": "code",
   "execution_count": 81,
   "id": "47d3b0b7",
   "metadata": {
    "ExecuteTime": {
     "end_time": "2021-09-21T13:56:14.319097Z",
     "start_time": "2021-09-21T13:56:14.310063Z"
    },
    "scrolled": true
   },
   "outputs": [
    {
     "name": "stdout",
     "output_type": "stream",
     "text": [
      "110\n"
     ]
    },
    {
     "data": {
      "text/plain": [
       "('360', '360')"
      ]
     },
     "execution_count": 81,
     "metadata": {},
     "output_type": "execute_result"
    }
   ],
   "source": [
    "for val, i in enumerate(kombinasi_negara):\n",
    "    if i[0] == i[1]:\n",
    "        print(val)\n",
    "        a = val \n",
    "kombinasi_negara.pop(110)"
   ]
  },
  {
   "cell_type": "markdown",
   "id": "0f14b22b",
   "metadata": {},
   "source": [
    "# Get HTML  Importer  Data"
   ]
  },
  {
   "cell_type": "code",
   "execution_count": 124,
   "id": "78de43a0",
   "metadata": {
    "ExecuteTime": {
     "end_time": "2021-09-21T14:17:32.062224Z",
     "start_time": "2021-09-21T14:17:32.034729Z"
    }
   },
   "outputs": [],
   "source": [
    "def extract_import(negara, partner):\n",
    "\n",
    "    browser = webdriver.Firefox()\n",
    "    browser.minimize_window()\n",
    "    browser.refresh()\n",
    "    browser.get(f\"https://www.trademap.org/Bilateral_TS.aspx?nvpm=1|{negara}||{partner}||TOTAL|||2|1|1|1|2|1|1|1|1|1\")\n",
    "    time.sleep(5)\n",
    "\n",
    "    select = Select(browser.find_element_by_id('ctl00_NavigationControl_DropDownList_ProductClusterLevel'))\n",
    "    select.select_by_value('4')\n",
    "\n",
    "    time.sleep(5)\n",
    "    select = Select(browser.find_element_by_id('ctl00_PageContent_GridViewPanelControl_DropDownList_NumTimePeriod'))\n",
    "    select.select_by_value('5')\n",
    "\n",
    "    time.sleep(5)\n",
    "    select = Select(browser.find_element_by_id('ctl00_PageContent_GridViewPanelControl_DropDownList_PageSize'))\n",
    "    select.select_by_value('300')\n",
    "    time.sleep(5)\n",
    "    html_source = []\n",
    "    jumlah_page = 0\n",
    "    html_source.append((browser.page_source))\n",
    "    jumlah_page +=1 \n",
    "    print (f\" Start Page {jumlah_page}...\")\n",
    "\n",
    "    while True :\n",
    "\n",
    "        try :\n",
    "            WebDriverWait(browser,20).until(EC.element_to_be_clickable((By.XPATH, \"//table[@id='ctl00_PageContent_MyGridView1']//table/tbody/tr//td/span//following::td[1]/a\"))).click()\n",
    "            html_source.append((browser.page_source))\n",
    "            jumlah_page +=1 \n",
    "            print (f\" Start Page {jumlah_page}...\")\n",
    "        except TimeoutException:\n",
    "            print(\"Finished \\n\")\n",
    "            break\n",
    "    browser.quit()\n",
    "    return html_source\n",
    "\n"
   ]
  },
  {
   "cell_type": "markdown",
   "id": "99b87774",
   "metadata": {},
   "source": [
    "# Get HTML Export Data"
   ]
  },
  {
   "cell_type": "code",
   "execution_count": 121,
   "id": "54aac41a",
   "metadata": {
    "ExecuteTime": {
     "end_time": "2021-09-21T14:17:10.960290Z",
     "start_time": "2021-09-21T14:17:10.941538Z"
    }
   },
   "outputs": [],
   "source": [
    "def extract_export(negara, partner ):\n",
    "\n",
    "    browser = webdriver.Firefox()\n",
    "#     browser.minimize_window()\n",
    "    browser.refresh()    \n",
    "    browser.get(f\"https://www.trademap.org/Bilateral_TS.aspx?nvpm=1|{negara}||{partner}||TOTAL|||2|1|1|2|2|1|1|1|1|1\")\n",
    "    \n",
    "    time.sleep(5)\n",
    "    \n",
    "    select = Select(browser.find_element_by_id('ctl00_NavigationControl_DropDownList_ProductClusterLevel'))\n",
    "    select.select_by_value('4')\n",
    "\n",
    "    time.sleep(5)\n",
    "    select = Select(browser.find_element_by_id('ctl00_PageContent_GridViewPanelControl_DropDownList_NumTimePeriod'))\n",
    "    select.select_by_value('5')\n",
    "\n",
    "    time.sleep(5)\n",
    "    select = Select(browser.find_element_by_id('ctl00_PageContent_GridViewPanelControl_DropDownList_PageSize'))\n",
    "    select.select_by_value('300')\n",
    "    time.sleep(5)\n",
    "    html_source = []\n",
    "    jumlah_page = 0\n",
    "    html_source.append((browser.page_source))\n",
    "    jumlah_page +=1 \n",
    "    print (f\" Start Page {jumlah_page}...\")\n",
    "    \n",
    "    while True :\n",
    "        try :\n",
    "            WebDriverWait(browser, 15).until(EC.element_to_be_clickable((By.XPATH, \"//table[@id='ctl00_PageContent_MyGridView1']//table/tbody/tr//td/span//following::td[1]/a\"))).click()\n",
    "            html_source.append((browser.page_source))\n",
    "            jumlah_page +=1 \n",
    "            print (f\" Start Page {jumlah_page}...\")\n",
    "        except TimeoutException:\n",
    "            print(\"Finished \\n\")\n",
    "            break\n",
    "    browser.quit()\n",
    "    return html_source\n"
   ]
  },
  {
   "cell_type": "markdown",
   "id": "26fc0733",
   "metadata": {},
   "source": [
    "# Extract  Data"
   ]
  },
  {
   "cell_type": "code",
   "execution_count": 190,
   "id": "30a01cd2",
   "metadata": {
    "ExecuteTime": {
     "end_time": "2021-09-21T16:33:38.912838Z",
     "start_time": "2021-09-21T16:33:38.897355Z"
    }
   },
   "outputs": [],
   "source": [
    "def data_import_export_extract(html_source, angka ):\n",
    "    soup = BeautifulSoup(html_source,'html.parser')\n",
    "\n",
    "    data = soup.findAll('td',{'class':['tabContent']})\n",
    "    \n",
    "    web = []\n",
    "    for item in data:\n",
    "        tdTags = item.find_all(\"tr\")\n",
    "    for item in tdTags:\n",
    "        asi = item.find_all(\"td\")\n",
    "        for asii in asi :\n",
    "                #print(no , asii.text)\n",
    "                #product_code.append(asii.text.strip())\n",
    "            web.append(asii.text.strip())\n",
    "    if angka != 1:\n",
    "        web = web[15:]\n",
    "    else :\n",
    "        web = web[35:]\n",
    "        \n",
    "    \n",
    "    return web\n"
   ]
  },
  {
   "cell_type": "code",
   "execution_count": 142,
   "id": "76458a8f",
   "metadata": {
    "ExecuteTime": {
     "end_time": "2021-09-21T14:42:24.101417Z",
     "start_time": "2021-09-21T14:42:24.076681Z"
    }
   },
   "outputs": [],
   "source": [
    "def insert_into_list(web):\n",
    "    m = len(web)\n",
    "    n =20\n",
    "\n",
    "    product_code =[]\n",
    "    product_label = []\n",
    "    value_2016 =[]\n",
    "    value_2017 =[]\n",
    "    value_2018 =[]\n",
    "    value_2019=[]\n",
    "    value_2020=[]\n",
    "\n",
    "    for i in range (0, m, n ):\n",
    "        #print(web[i])\n",
    "        product_code.append(web[i])\n",
    "        product_label.append(web[i+1])\n",
    "        value_2016.append(web[i+2])\n",
    "        value_2017.append(web[i+3])\n",
    "        value_2018.append(web[i+4])\n",
    "        value_2019.append(web[i+5])\n",
    "        value_2020.append(web[i+6])\n",
    "    \n",
    "    # make dataframe\n",
    "    kolom = ['product_code', 'product_label','2016','2017','2018','2019','2020']\n",
    "    df = pd.DataFrame(columns= kolom)\n",
    "    df['product_code'] = product_code\n",
    "    df['product_label'] = product_label\n",
    "    df['2016'] = value_2016\n",
    "    df['2017'] = value_2017\n",
    "    df['2018'] = value_2018\n",
    "    df['2019'] = value_2019\n",
    "    df['2020'] = value_2020\n",
    "    return df"
   ]
  },
  {
   "cell_type": "code",
   "execution_count": 110,
   "id": "b50fe296",
   "metadata": {
    "ExecuteTime": {
     "end_time": "2021-09-21T14:07:26.569345Z",
     "start_time": "2021-09-21T14:07:26.558837Z"
    },
    "scrolled": true
   },
   "outputs": [],
   "source": [
    "def get_key(val):\n",
    "    for key, value in kode_negara.items():\n",
    "         if val == value:\n",
    "            return key"
   ]
  },
  {
   "cell_type": "markdown",
   "id": "c4f967cc",
   "metadata": {},
   "source": [
    "# For Data Importir "
   ]
  },
  {
   "cell_type": "code",
   "execution_count": null,
   "id": "b8aca7b5",
   "metadata": {
    "ExecuteTime": {
     "start_time": "2021-09-22T00:44:03.166Z"
    }
   },
   "outputs": [
    {
     "name": "stdout",
     "output_type": "stream",
     "text": [
      "1/252 Started\n",
      " Start Page 1...\n",
      " Start Page 2...\n",
      " Start Page 3...\n",
      " Start Page 4...\n",
      " Start Page 5...\n",
      " Start Page 6...\n",
      "Finished \n",
      "\n",
      "2/252 Started\n",
      " Start Page 1...\n",
      " Start Page 2...\n",
      " Start Page 3...\n",
      " Start Page 4...\n",
      " Start Page 5...\n",
      "Finished \n",
      "\n",
      "3/252 Started\n"
     ]
    }
   ],
   "source": [
    "kolom = ['product_code', 'product_label','2016','2017','2018','2019','2020']\n",
    "data_importir = pd.DataFrame(columns= kolom)\n",
    "html_source = {}\n",
    "\n",
    "for i,kombinasi in enumerate(kombinasi_negara,1):\n",
    "    print(f\"{i}/{len(kombinasi_negara)} Started\")\n",
    "    negara = kombinasi[0]\n",
    "    partner = kombinasi[1]\n",
    "    nama_negara = kode_negara[negara]\n",
    "    nama_partner = kode_negara[partner]\n",
    "    \n",
    "    browser = webdriver.Firefox()\n",
    "    time.sleep(5)\n",
    "    \n",
    "    browser.get(f\"https://www.trademap.org/Bilateral_TS.aspx?nvpm=1|{negara}||{partner}||TOTAL|||2|1|1|1|2|1|1|1|1|1\")\n",
    "    time.sleep(5)\n",
    "\n",
    "    select = Select(browser.find_element_by_id('ctl00_NavigationControl_DropDownList_ProductClusterLevel'))\n",
    "    select.select_by_value('4')\n",
    "\n",
    "    time.sleep(5)\n",
    "    select = Select(browser.find_element_by_id('ctl00_PageContent_GridViewPanelControl_DropDownList_NumTimePeriod'))\n",
    "    select.select_by_value('5')\n",
    "\n",
    "    time.sleep(5)\n",
    "    select = Select(browser.find_element_by_id('ctl00_PageContent_GridViewPanelControl_DropDownList_PageSize'))\n",
    "    select.select_by_value('300')\n",
    "    time.sleep(5)\n",
    "    jumlah_page = 0\n",
    "    html_source[jumlah_page]=[browser.page_source]\n",
    "    jumlah_page +=1 \n",
    "    print (f\" Start Page {jumlah_page}...\")\n",
    "\n",
    "    while True :\n",
    "\n",
    "        try :\n",
    "            WebDriverWait(browser,30).until(EC.element_to_be_clickable((By.XPATH, \"//table[@id='ctl00_PageContent_MyGridView1']//table/tbody/tr//td/span//following::td[1]/a\"))).click()\n",
    "            html_source[jumlah_page]=[browser.page_source]\n",
    "            jumlah_page +=1 \n",
    "            print (f\" Start Page {jumlah_page}...\")\n",
    "        except TimeoutException:\n",
    "            print(\"Finished \\n\")\n",
    "            break\n",
    "    browser.quit\n",
    "\n",
    "\n",
    "\n"
   ]
  },
  {
   "cell_type": "code",
   "execution_count": 212,
   "id": "ba51a8d7",
   "metadata": {
    "ExecuteTime": {
     "end_time": "2021-09-22T00:42:20.807600Z",
     "start_time": "2021-09-22T00:42:16.552725Z"
    }
   },
   "outputs": [],
   "source": [
    "for i, data in html_source.items():\n",
    "    web = data_import_export_extract(data[0],i)\n",
    "    df = insert_into_list(web)\n",
    "    df['importer'] = nama_negara  \n",
    "    df['exporter'] = nama_partner\n",
    "    data_importir = pd.concat([data_importir, df], ignore_index= True)\n",
    "    data_importir = data_importir[data_importir.product_code != \"1\" ] \n",
    "    data_importir = data_importir.reset_index(drop=True)\n",
    "    data_importir = data_importir.drop_duplicates()\n",
    "    data_importir =  data_importir[data_importir['product_label'].str.contains('[A-Za-z]', na=False)]    \n"
   ]
  },
  {
   "cell_type": "code",
   "execution_count": 213,
   "id": "c3ae7ff3",
   "metadata": {
    "ExecuteTime": {
     "end_time": "2021-09-22T00:42:23.915719Z",
     "start_time": "2021-09-22T00:42:23.880962Z"
    }
   },
   "outputs": [
    {
     "data": {
      "text/html": [
       "<div>\n",
       "<style scoped>\n",
       "    .dataframe tbody tr th:only-of-type {\n",
       "        vertical-align: middle;\n",
       "    }\n",
       "\n",
       "    .dataframe tbody tr th {\n",
       "        vertical-align: top;\n",
       "    }\n",
       "\n",
       "    .dataframe thead th {\n",
       "        text-align: right;\n",
       "    }\n",
       "</style>\n",
       "<table border=\"1\" class=\"dataframe\">\n",
       "  <thead>\n",
       "    <tr style=\"text-align: right;\">\n",
       "      <th></th>\n",
       "      <th>product_code</th>\n",
       "      <th>product_label</th>\n",
       "      <th>2016</th>\n",
       "      <th>2017</th>\n",
       "      <th>2018</th>\n",
       "      <th>2019</th>\n",
       "      <th>2020</th>\n",
       "      <th>importer</th>\n",
       "      <th>exporter</th>\n",
       "    </tr>\n",
       "  </thead>\n",
       "  <tbody>\n",
       "    <tr>\n",
       "      <th>0</th>\n",
       "      <td>TOTAL</td>\n",
       "      <td>All products</td>\n",
       "      <td>31</td>\n",
       "      <td>29</td>\n",
       "      <td>490</td>\n",
       "      <td>204</td>\n",
       "      <td>487</td>\n",
       "      <td>Indonesia</td>\n",
       "      <td>Afghanistan</td>\n",
       "    </tr>\n",
       "    <tr>\n",
       "      <th>1</th>\n",
       "      <td>8213</td>\n",
       "      <td>Scissors, tailors' shears and similar shears, ...</td>\n",
       "      <td>0</td>\n",
       "      <td>0</td>\n",
       "      <td>0</td>\n",
       "      <td>0</td>\n",
       "      <td>0</td>\n",
       "      <td>Indonesia</td>\n",
       "      <td>Afghanistan</td>\n",
       "    </tr>\n",
       "    <tr>\n",
       "      <th>2</th>\n",
       "      <td>8415</td>\n",
       "      <td>Air conditioning machines comprising a motor-d...</td>\n",
       "      <td>0</td>\n",
       "      <td>0</td>\n",
       "      <td>0</td>\n",
       "      <td>0</td>\n",
       "      <td>0</td>\n",
       "      <td>Indonesia</td>\n",
       "      <td>Afghanistan</td>\n",
       "    </tr>\n",
       "    <tr>\n",
       "      <th>3</th>\n",
       "      <td>8423</td>\n",
       "      <td>Weighing machinery, incl. weight-operated coun...</td>\n",
       "      <td>0</td>\n",
       "      <td>0</td>\n",
       "      <td>0</td>\n",
       "      <td>0</td>\n",
       "      <td>0</td>\n",
       "      <td>Indonesia</td>\n",
       "      <td>Afghanistan</td>\n",
       "    </tr>\n",
       "    <tr>\n",
       "      <th>4</th>\n",
       "      <td>8425</td>\n",
       "      <td>Pulley tackle and hoists (other than skip hois...</td>\n",
       "      <td>0</td>\n",
       "      <td>0</td>\n",
       "      <td>0</td>\n",
       "      <td>0</td>\n",
       "      <td>0</td>\n",
       "      <td>Indonesia</td>\n",
       "      <td>Afghanistan</td>\n",
       "    </tr>\n",
       "    <tr>\n",
       "      <th>...</th>\n",
       "      <td>...</td>\n",
       "      <td>...</td>\n",
       "      <td>...</td>\n",
       "      <td>...</td>\n",
       "      <td>...</td>\n",
       "      <td>...</td>\n",
       "      <td>...</td>\n",
       "      <td>...</td>\n",
       "      <td>...</td>\n",
       "    </tr>\n",
       "    <tr>\n",
       "      <th>1220</th>\n",
       "      <td>8474</td>\n",
       "      <td>Machinery for sorting, screening, separating, ...</td>\n",
       "      <td>0</td>\n",
       "      <td>0</td>\n",
       "      <td>118</td>\n",
       "      <td>2</td>\n",
       "      <td>23</td>\n",
       "      <td>Indonesia</td>\n",
       "      <td>Afghanistan</td>\n",
       "    </tr>\n",
       "    <tr>\n",
       "      <th>1221</th>\n",
       "      <td>8537</td>\n",
       "      <td>Boards, panels, consoles, desks, cabinets and ...</td>\n",
       "      <td>0</td>\n",
       "      <td>19</td>\n",
       "      <td>2</td>\n",
       "      <td>6</td>\n",
       "      <td>30</td>\n",
       "      <td>Indonesia</td>\n",
       "      <td>Afghanistan</td>\n",
       "    </tr>\n",
       "    <tr>\n",
       "      <th>1222</th>\n",
       "      <td>8544</td>\n",
       "      <td>Insulated \"incl. enamelled or anodised\" wire, ...</td>\n",
       "      <td>0</td>\n",
       "      <td>0</td>\n",
       "      <td>46</td>\n",
       "      <td>21</td>\n",
       "      <td>40</td>\n",
       "      <td>Indonesia</td>\n",
       "      <td>Afghanistan</td>\n",
       "    </tr>\n",
       "    <tr>\n",
       "      <th>1223</th>\n",
       "      <td>8542</td>\n",
       "      <td>Electronic integrated circuits; parts thereof</td>\n",
       "      <td>0</td>\n",
       "      <td>0</td>\n",
       "      <td>0</td>\n",
       "      <td>19</td>\n",
       "      <td>90</td>\n",
       "      <td>Indonesia</td>\n",
       "      <td>Afghanistan</td>\n",
       "    </tr>\n",
       "    <tr>\n",
       "      <th>1224</th>\n",
       "      <td>0910</td>\n",
       "      <td>Ginger, saffron, turmeric \"curcuma\", thyme, ba...</td>\n",
       "      <td>0</td>\n",
       "      <td>0</td>\n",
       "      <td>0</td>\n",
       "      <td>12</td>\n",
       "      <td>259</td>\n",
       "      <td>Indonesia</td>\n",
       "      <td>Afghanistan</td>\n",
       "    </tr>\n",
       "  </tbody>\n",
       "</table>\n",
       "<p>1225 rows × 9 columns</p>\n",
       "</div>"
      ],
      "text/plain": [
       "     product_code                                      product_label 2016  \\\n",
       "0           TOTAL                                       All products   31   \n",
       "1            8213  Scissors, tailors' shears and similar shears, ...    0   \n",
       "2            8415  Air conditioning machines comprising a motor-d...    0   \n",
       "3            8423  Weighing machinery, incl. weight-operated coun...    0   \n",
       "4            8425  Pulley tackle and hoists (other than skip hois...    0   \n",
       "...           ...                                                ...  ...   \n",
       "1220         8474  Machinery for sorting, screening, separating, ...    0   \n",
       "1221         8537  Boards, panels, consoles, desks, cabinets and ...    0   \n",
       "1222         8544  Insulated \"incl. enamelled or anodised\" wire, ...    0   \n",
       "1223         8542      Electronic integrated circuits; parts thereof    0   \n",
       "1224         0910  Ginger, saffron, turmeric \"curcuma\", thyme, ba...    0   \n",
       "\n",
       "     2017 2018 2019 2020   importer     exporter  \n",
       "0      29  490  204  487  Indonesia  Afghanistan  \n",
       "1       0    0    0    0  Indonesia  Afghanistan  \n",
       "2       0    0    0    0  Indonesia  Afghanistan  \n",
       "3       0    0    0    0  Indonesia  Afghanistan  \n",
       "4       0    0    0    0  Indonesia  Afghanistan  \n",
       "...   ...  ...  ...  ...        ...          ...  \n",
       "1220    0  118    2   23  Indonesia  Afghanistan  \n",
       "1221   19    2    6   30  Indonesia  Afghanistan  \n",
       "1222    0   46   21   40  Indonesia  Afghanistan  \n",
       "1223    0    0   19   90  Indonesia  Afghanistan  \n",
       "1224    0    0   12  259  Indonesia  Afghanistan  \n",
       "\n",
       "[1225 rows x 9 columns]"
      ]
     },
     "execution_count": 213,
     "metadata": {},
     "output_type": "execute_result"
    }
   ],
   "source": [
    "data_importir"
   ]
  },
  {
   "cell_type": "markdown",
   "id": "65d92528",
   "metadata": {},
   "source": [
    "# For Data Exportir"
   ]
  },
  {
   "cell_type": "code",
   "execution_count": null,
   "id": "31ca5877",
   "metadata": {},
   "outputs": [],
   "source": [
    "kolom = ['product_code', 'product_label','2016','2017','2018','2019','2020']\n",
    "data_importir = pd.DataFrame(columns= kolom)\n",
    "html_source = []\n",
    "\n",
    "for i,kombinasi in enumerate(kombinasi_negara,1):\n",
    "    print(f\"{i}/{len(kombinasi_negara)} Started\")\n",
    "    negara = kombinasi[0]\n",
    "    partner = kombinasi[1]\n",
    "    nama_negara = get_key(negara)\n",
    "    nama_partner = get_key(partner)    \n",
    "    \n",
    "    browser = webdriver.Firefox()\n",
    "    browser.get(f\"https://www.trademap.org/Bilateral_TS.aspx?nvpm=1|{negara}||{partner}||TOTAL|||2|1|1|2|2|1|1|1|1|1\")\n",
    "    time.sleep(3)\n",
    "\n",
    "    select = Select(browser.find_element_by_id('ctl00_NavigationControl_DropDownList_ProductClusterLevel'))\n",
    "    select.select_by_value('4')\n",
    "\n",
    "    time.sleep(3)\n",
    "    select = Select(browser.find_element_by_id('ctl00_PageContent_GridViewPanelControl_DropDownList_NumTimePeriod'))\n",
    "    select.select_by_value('5')\n",
    "\n",
    "    time.sleep(3)\n",
    "    select = Select(browser.find_element_by_id('ctl00_PageContent_GridViewPanelControl_DropDownList_PageSize'))\n",
    "    select.select_by_value('300')\n",
    "    time.sleep(3)\n",
    "    jumlah_page = 0\n",
    "    html_source.append((browser.page_source))\n",
    "    jumlah_page +=1 \n",
    "    print (f\" Start Page {jumlah_page}...\")\n",
    "\n",
    "    while True :\n",
    "\n",
    "        try :\n",
    "            WebDriverWait(browser,20).until(EC.element_to_be_clickable((By.XPATH, \"//table[@id='ctl00_PageContent_MyGridView1']//table/tbody/tr//td/span//following::td[1]/a\"))).click()\n",
    "            html_source.append((browser.page_source))\n",
    "            jumlah_page +=1 \n",
    "            print (f\" Start Page {jumlah_page}...\")\n",
    "        except TimeoutException:\n",
    "            print(\"Finished \\n\")\n",
    "            break\n",
    "\n",
    "\n",
    "\n"
   ]
  },
  {
   "cell_type": "code",
   "execution_count": null,
   "id": "b092cf13",
   "metadata": {},
   "outputs": [],
   "source": [
    "kolom = ['product_code', 'product_label','2016','2017','2018','2019','2020']\n",
    "data_exportir = pd.DataFrame(columns= kolom)\n",
    "\n",
    "for i,kombinasi in enumerate(kombinasi_negara,1):\n",
    "    print(f\"{i}/{len(kombinasi_negara)} Started\")\n",
    "    negara = kombinasi[0]\n",
    "    partner = kombinasi[1]\n",
    "    nama_negara = get_key(negara)\n",
    "    nama_partner = get_key(partner)    \n",
    "    data_export = extract_export(negara=negara, partner= partner)\n",
    "    for data in data_export:\n",
    "        web = data_import_export_extract(data)\n",
    "        df = insert_into_list(web)\n",
    "        df['importer'] = nama_partner  \n",
    "        df['exporter'] = nama_negara\n",
    "        data_exportir = pd.concat([data_exportir, df], ignore_index= True)\n",
    "        data_exportir = data_exportir[data_exportir.product_code != \"1\" ] \n",
    "        data_exportir = data_exportir.reset_index(drop=True) \n",
    "    \n",
    "\n",
    " "
   ]
  }
 ],
 "metadata": {
  "kernelspec": {
   "display_name": "Python 3",
   "language": "python",
   "name": "python3"
  },
  "language_info": {
   "codemirror_mode": {
    "name": "ipython",
    "version": 3
   },
   "file_extension": ".py",
   "mimetype": "text/x-python",
   "name": "python",
   "nbconvert_exporter": "python",
   "pygments_lexer": "ipython3",
   "version": "3.7.7"
  },
  "toc": {
   "base_numbering": 1,
   "nav_menu": {},
   "number_sections": true,
   "sideBar": true,
   "skip_h1_title": false,
   "title_cell": "Table of Contents",
   "title_sidebar": "Contents",
   "toc_cell": false,
   "toc_position": {},
   "toc_section_display": true,
   "toc_window_display": false
  }
 },
 "nbformat": 4,
 "nbformat_minor": 5
}
